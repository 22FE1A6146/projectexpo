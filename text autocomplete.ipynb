{
  "nbformat": 4,
  "nbformat_minor": 0,
  "metadata": {
    "colab": {
      "provenance": [],
      "authorship_tag": "ABX9TyOxKiaiwe87J3LN0Y8iJQeU",
      "include_colab_link": true
    },
    "kernelspec": {
      "name": "python3",
      "display_name": "Python 3"
    },
    "language_info": {
      "name": "python"
    }
  },
  "cells": [
    {
      "cell_type": "markdown",
      "metadata": {
        "id": "view-in-github",
        "colab_type": "text"
      },
      "source": [
        "<a href=\"https://colab.research.google.com/github/22FE1A6146/projectexpo/blob/main/text%20autocomplete.ipynb\" target=\"_parent\"><img src=\"https://colab.research.google.com/assets/colab-badge.svg\" alt=\"Open In Colab\"/></a>"
      ]
    },
    {
      "source": [
        "from collections import defaultdict\n",
        "import nltk\n",
        "from nltk.corpus import words\n",
        "\n",
        "class TrieNode:\n",
        "    def __init__(self):\n",
        "        self.children = defaultdict(TrieNode)\n",
        "        self.is_end_of_word = False\n",
        "        self.frequency = 0  # Frequency of the word ending here\n",
        "\n",
        "class Trie:\n",
        "    def __init__(self):\n",
        "        self.root = TrieNode()\n",
        "\n",
        "    def insert(self, word: str):\n",
        "        node = self.root\n",
        "        for char in word:\n",
        "            node = node.children[char]\n",
        "        node.is_end_of_word = True\n",
        "        node.frequency += 1  # Increment frequency every time the word is inserted\n",
        "\n",
        "    def search_prefix(self, prefix: str):\n",
        "        node = self.root\n",
        "        for char in prefix:\n",
        "            if char not in node.children:\n",
        "                return None\n",
        "            node = node.children[char]\n",
        "        return node\n",
        "\n",
        "    def autocomplete(self, prefix: str, max_suggestions=10):\n",
        "        node = self.search_prefix(prefix)\n",
        "        if not node:\n",
        "            return []\n",
        "\n",
        "        suggestions = []\n",
        "        # Find all words that start with the given prefix\n",
        "        self._find_words(node, prefix, suggestions)\n",
        "\n",
        "        # Sort suggestions by frequency in descending order\n",
        "        suggestions.sort(key=lambda x: x[1], reverse=True)\n",
        "\n",
        "        # Return only the words (ignoring frequencies) and limit to max_suggestions\n",
        "        return [word for word, freq in suggestions[:max_suggestions]]\n",
        "\n",
        "    def _find_words(self, node, prefix, suggestions):\n",
        "        if node.is_end_of_word:\n",
        "            suggestions.append((prefix, node.frequency))\n",
        "\n",
        "        for char, child_node in node.children.items():\n",
        "            self._find_words(child_node, prefix + char, suggestions)\n",
        "\n",
        "# Initialize trie and insert words from the nltk corpus\n",
        "nltk.download('words')\n",
        "trie = Trie()\n",
        "word_list = words.words()  # Get large list of English words\n",
        "\n",
        "for word in word_list:\n",
        "    trie.insert(word.lower())  # Insert each word into the Trie\n",
        "\n",
        "# Continuous input handling with live suggestions\n",
        "# Removed sys, tty, and termios imports as they are no longer needed\n",
        "\n",
        "print(\"Type a prefix to get autocomplete suggestions:\")\n",
        "\n",
        "current_prefix = \"\"\n",
        "while True:\n",
        "    try:\n",
        "        current_prefix = input(f'Prefix: ')\n",
        "        if current_prefix.lower() == 'exit': # Added exit condition\n",
        "            break\n",
        "        suggestions = trie.autocomplete(current_prefix, max_suggestions=10)\n",
        "        if suggestions:\n",
        "            print(f\"Autocomplete suggestions for '{current_prefix}': {suggestions}\")\n",
        "        else:\n",
        "            print(f\"No suggestions found for '{current_prefix}'\")\n",
        "        #current_prefix = \"\"  # Clear the current prefix after displaying suggestions\n",
        "    except KeyboardInterrupt:\n",
        "        break\n",
        "\n",
        "print(\"\\nExiting...\")"
      ],
      "cell_type": "code",
      "metadata": {
        "colab": {
          "base_uri": "https://localhost:8080/"
        },
        "id": "O_1bzjH1t1r3",
        "outputId": "149c517a-71ea-4cec-dd78-35897c4874cb"
      },
      "execution_count": 25,
      "outputs": [
        {
          "output_type": "stream",
          "name": "stderr",
          "text": [
            "[nltk_data] Downloading package words to /root/nltk_data...\n",
            "[nltk_data]   Package words is already up-to-date!\n"
          ]
        },
        {
          "output_type": "stream",
          "name": "stdout",
          "text": [
            "Type a prefix to get autocomplete suggestions:\n",
            "Prefix: helping\n",
            "Autocomplete suggestions for 'helping': ['helping', 'helpingly']\n",
            "Prefix: ha\n",
            "Autocomplete suggestions for 'ha': ['hair', 'hamal', 'hammer', 'hand', 'hanging', 'hank', 'hanse', 'happy', 'hard', 'harmony']\n",
            "Prefix: ca\n",
            "Autocomplete suggestions for 'ca': ['cat', 'caddie', 'cadet', 'cain', 'cajun', 'cake', 'calabrese', 'calciferous', 'calypso', 'came']\n",
            "Prefix: vaish\n",
            "Autocomplete suggestions for 'vaish': ['vaishnava', 'vaishnavism']\n",
            "Prefix: \n",
            "Autocomplete suggestions for '': ['a', 'art', 'as', 'bath', 'bee', 'cat', 'chin', 'for', 'gold', 'i']\n",
            "Prefix: exit\n",
            "\n",
            "Exiting...\n"
          ]
        }
      ]
    }
  ]
}
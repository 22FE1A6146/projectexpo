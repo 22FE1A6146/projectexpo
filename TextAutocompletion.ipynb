{
  "nbformat": 4,
  "nbformat_minor": 0,
  "metadata": {
    "colab": {
      "provenance": [],
      "authorship_tag": "ABX9TyOB1RUQp1JWNTGdmjjsxsgi",
      "include_colab_link": true
    },
    "kernelspec": {
      "name": "python3",
      "display_name": "Python 3"
    },
    "language_info": {
      "name": "python"
    }
  },
  "cells": [
    {
      "cell_type": "markdown",
      "metadata": {
        "id": "view-in-github",
        "colab_type": "text"
      },
      "source": [
        "<a href=\"https://colab.research.google.com/github/22FE1A6146/projectexpo/blob/main/TextAutocompletion.ipynb\" target=\"_parent\"><img src=\"https://colab.research.google.com/assets/colab-badge.svg\" alt=\"Open In Colab\"/></a>"
      ]
    },
    {
      "cell_type": "code",
      "source": [
        "from collections import defaultdict\n",
        "\n",
        "class TrieNode:\n",
        "    def __init__(self):\n",
        "        self.children = defaultdict(TrieNode)\n",
        "        self.is_end_of_word = False\n",
        "        self.frequency = 0  # Frequency of the word ending here\n",
        "\n",
        "class Trie:\n",
        "    def __init__(self):\n",
        "        self.root = TrieNode()\n",
        "\n",
        "    def insert(self, word: str):\n",
        "        node = self.root\n",
        "        for char in word:\n",
        "            node = node.children[char]\n",
        "        node.is_end_of_word = True\n",
        "        node.frequency += 1  # Increment frequency every time the word is inserted\n",
        "\n",
        "    def search_prefix(self, prefix: str):\n",
        "        node = self.root\n",
        "        for char in prefix:\n",
        "            if char not in node.children:\n",
        "                return None\n",
        "            node = node.children[char]\n",
        "        return node\n",
        "\n",
        "    def autocomplete(self, prefix: str, max_suggestions=10):\n",
        "        node = self.search_prefix(prefix)\n",
        "        if not node:\n",
        "            return []\n",
        "\n",
        "        suggestions = []\n",
        "        # Find all words that start with the given prefix\n",
        "        self._find_words(node, prefix, suggestions)\n",
        "\n",
        "        # Sort suggestions by frequency in descending order\n",
        "        suggestions.sort(key=lambda x: x[1], reverse=True)\n",
        "\n",
        "        # Return only the words (ignoring frequencies) and limit to max_suggestions\n",
        "        return [word for word, freq in suggestions[:max_suggestions]]\n",
        "\n",
        "    def _find_words(self, node, prefix, suggestions):\n",
        "        if node.is_end_of_word:\n",
        "            suggestions.append((prefix, node.frequency))\n",
        "\n",
        "        for char, child_node in node.children.items():\n",
        "            self._find_words(child_node, prefix + char, suggestions)\n",
        "#large dataset\n",
        "import nltk\n",
        "nltk.download('words')\n",
        "\n",
        "from nltk.corpus import words\n",
        "\n",
        "# Initialize trie and insert words from the nltk corpus\n",
        "trie = Trie()\n",
        "word_list = words.words()  # Get large list of English words\n",
        "\n",
        "for word in word_list:\n",
        "    trie.insert(word.lower())  # Insert each word into the Trie\n",
        "\n",
        "# Test autocomplete with a large dataset\n",
        "prefix = \"soci\"\n",
        "suggestions = trie.autocomplete(prefix, max_suggestions=10)\n",
        "\n",
        "print(f\"Autocomplete suggestions for '{prefix}': {suggestions}\")\n",
        "\n",
        "\n",
        "\n"
      ],
      "metadata": {
        "colab": {
          "base_uri": "https://localhost:8080/"
        },
        "id": "RafWxRFcldkq",
        "outputId": "24df298d-0091-4238-e4e9-0a8de7dcb591"
      },
      "execution_count": 21,
      "outputs": [
        {
          "output_type": "stream",
          "name": "stderr",
          "text": [
            "[nltk_data] Downloading package words to /root/nltk_data...\n",
            "[nltk_data]   Package words is already up-to-date!\n"
          ]
        },
        {
          "output_type": "stream",
          "name": "stdout",
          "text": [
            "Autocomplete suggestions for 'soci': ['society', 'sociability', 'sociable', 'sociableness', 'sociably', 'social', 'sociales', 'socialism', 'socialist', 'socialistic']\n"
          ]
        }
      ]
    }
  ]
}